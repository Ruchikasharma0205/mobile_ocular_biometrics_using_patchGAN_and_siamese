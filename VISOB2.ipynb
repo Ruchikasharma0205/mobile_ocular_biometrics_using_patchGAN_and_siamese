{
  "nbformat": 4,
  "nbformat_minor": 0,
  "metadata": {
    "colab": {
      "name": "VISOB2",
      "provenance": [],
      "toc_visible": true
    },
    "kernelspec": {
      "name": "python3",
      "display_name": "Python 3"
    },
    "accelerator": "GPU"
  },
  "cells": [
    {
      "cell_type": "code",
      "metadata": {
        "id": "Z6csRQzSja1a",
        "colab_type": "code",
        "colab": {}
      },
      "source": [
        "import numpy as np\n",
        "import cv2\n",
        "import matplotlib.pyplot as plt\n",
        "\n",
        "def gaussian1d(sigma, mean, x, ord):\n",
        "    x = np.array(x)\n",
        "    x_ = x - mean\n",
        "    var = sigma**2\n",
        "\n",
        "    # Gaussian Function\n",
        "    g1 = (1/np.sqrt(2*np.pi*var))*(np.exp((-1*x_*x_)/(2*var)))\n",
        "\n",
        "    if ord == 0:\n",
        "        g = g1\n",
        "        return g\n",
        "    elif ord == 1:\n",
        "        g = -g1*((x_)/(var))\n",
        "        return g\n",
        "    else:\n",
        "        g = g1*(((x_*x_) - var)/(var**2))\n",
        "        return g\n",
        "\n",
        "def gaussian2d(sup, scales):\n",
        "    var = scales * scales\n",
        "    shape = (sup,sup)\n",
        "    n,m = [(i - 1)/2 for i in shape]\n",
        "    x,y = np.ogrid[-m:m+1,-n:n+1]\n",
        "    g = (1/np.sqrt(2*np.pi*var))*np.exp( -(x*x + y*y) / (2*var) )\n",
        "    return g\n",
        "\n",
        "def log2d(sup, scales):\n",
        "    var = scales * scales\n",
        "    shape = (sup,sup)\n",
        "    n,m = [(i - 1)/2 for i in shape]\n",
        "    x,y = np.ogrid[-m:m+1,-n:n+1]\n",
        "    g = (1/np.sqrt(2*np.pi*var))*np.exp( -(x*x + y*y) / (2*var) )\n",
        "    h = g*((x*x + y*y) - var)/(var**2)\n",
        "    return h\n",
        "\n",
        "def makefilter(scale, phasex, phasey, pts, sup):\n",
        "\n",
        "    gx = gaussian1d(3*scale, 0, pts[0,...], phasex)\n",
        "    gy = gaussian1d(scale,   0, pts[1,...], phasey)\n",
        "\n",
        "    image = gx*gy\n",
        "\n",
        "    image = np.reshape(image,(sup,sup))\n",
        "    return image\n",
        "\n",
        "def makeLMfilters():\n",
        "    sup     = 49\n",
        "    scalex  = np.sqrt(2) * np.array([1,2,3])\n",
        "    norient = 6\n",
        "    nrotinv = 12\n",
        "\n",
        "    nbar  = len(scalex)*norient\n",
        "    nedge = len(scalex)*norient\n",
        "    nf    = nbar+nedge+nrotinv\n",
        "    F     = np.zeros([sup,sup,nf])\n",
        "    hsup  = (sup - 1)/2\n",
        "\n",
        "    x = [np.arange(-hsup,hsup+1)]\n",
        "    y = [np.arange(-hsup,hsup+1)]\n",
        "\n",
        "    [x,y] = np.meshgrid(x,y)\n",
        "\n",
        "    orgpts = [x.flatten(), y.flatten()]\n",
        "    orgpts = np.array(orgpts)\n",
        "\n",
        "    count = 0\n",
        "    for scale in range(len(scalex)):\n",
        "        for orient in range(norient):\n",
        "            angle = (np.pi * orient)/norient\n",
        "            c = np.cos(angle)\n",
        "            s = np.sin(angle)\n",
        "            rotpts = [[c+0,-s+0],[s+0,c+0]]\n",
        "            rotpts = np.array(rotpts)\n",
        "            rotpts = np.dot(rotpts,orgpts)\n",
        "            F[:,:,count] = makefilter(scalex[scale], 0, 1, rotpts, sup)\n",
        "            F[:,:,count+nedge] = makefilter(scalex[scale], 0, 2, rotpts, sup)\n",
        "            count = count + 1\n",
        "\n",
        "    count = nbar+nedge\n",
        "    scales = np.sqrt(2) * np.array([1,2,3,4])\n",
        "\n",
        "    for i in range(len(scales)):\n",
        "        F[:,:,count]   = gaussian2d(sup, scales[i])\n",
        "        count = count + 1\n",
        "\n",
        "    for i in range(len(scales)):\n",
        "        F[:,:,count] = log2d(sup, scales[i])\n",
        "        count = count + 1\n",
        "\n",
        "    for i in range(len(scales)):\n",
        "        F[:,:,count] = log2d(sup, 3*scales[i])\n",
        "        count = count + 1\n",
        "\n",
        "    return F\n",
        "\n",
        "# Call the make filter function\n",
        "F = makeLMfilters()\n",
        "# print (F.shape)"
      ],
      "execution_count": 0,
      "outputs": []
    },
    {
      "cell_type": "code",
      "metadata": {
        "id": "UHoXDlYykI0O",
        "colab_type": "code",
        "colab": {}
      },
      "source": [
        "import cv2\n",
        "def read_image(image_path):\n",
        "    img = cv2.imread(image_path)\n",
        "    img = cv2.cvtColor(img,cv2.COLOR_BGR2GRAY)\n",
        "    return img"
      ],
      "execution_count": 0,
      "outputs": []
    },
    {
      "cell_type": "code",
      "metadata": {
        "id": "AEsaKHpSkaFP",
        "colab_type": "code",
        "colab": {}
      },
      "source": [
        "import numpy as np\n",
        "def split_image(img):\n",
        "    [m,n] = img.shape\n",
        "    x = n//5\n",
        "    img1 = img[:,0:x]\n",
        "    img2 = img[:,x:2*x]\n",
        "    img3 = img[:,2*x:3*x]\n",
        "    img4 = img[:,3*x:4*x]\n",
        "    img5 = img[:,4*x:5*x]\n",
        "    return [img1,img2,img3,img4,img5]"
      ],
      "execution_count": 0,
      "outputs": []
    },
    {
      "cell_type": "code",
      "metadata": {
        "id": "PPonVkSvkdL2",
        "colab_type": "code",
        "colab": {}
      },
      "source": [
        "def preprocess_image(img):\n",
        "    splitted = split_image(img)\n",
        "    out=[]\n",
        "    for k in splitted:\n",
        "        k = cv2.equalizeHist(k)\n",
        "        k = cv2.resize(k,(120,120))\n",
        "        k = cv2.GaussianBlur(k,(5,5),2)\n",
        "        out.append(k)\n",
        "    return out"
      ],
      "execution_count": 0,
      "outputs": []
    },
    {
      "cell_type": "code",
      "metadata": {
        "id": "-NQN270Hledg",
        "colab_type": "code",
        "colab": {}
      },
      "source": [
        "def apply_MR_filter(im_list):\n",
        "  out = []\n",
        "  for img in im_list:\n",
        "    k = np.zeros((120,120,48))\n",
        "    for i in range(0,47):\n",
        "      k[:,:,i] = cv2.filter2D(img, -1, F[:,:,i])\n",
        "    out.append(k)  \n",
        "  return out"
      ],
      "execution_count": 0,
      "outputs": []
    },
    {
      "cell_type": "code",
      "metadata": {
        "id": "faqHea00l_Nt",
        "colab_type": "code",
        "colab": {}
      },
      "source": [
        "'''\n",
        "Dataset description\n",
        "Images of 150 persons from different angles\n",
        "Total images = 19516*5 of size 120*120*48 ====> 48 is the no. of filters\n",
        "'''\n",
        "dataset_directory = 'drive/My Drive/input/'\n",
        "dir_list = [None]*12\n",
        "dir_list[0] = dataset_directory + 'v1_note4_dark/dark/'\n",
        "dir_list[1] = dataset_directory + 'v1_note4_daylight/daylight/'\n",
        "dir_list[2] = dataset_directory + 'v1_note4_office/office/'\n",
        "dir_list[3] = dataset_directory + 'v1_oppo_dark/dark/'\n",
        "dir_list[4] = dataset_directory + 'v1_oppo daylight/daylight'\n",
        "dir_list[5] = dataset_directory + 'v1_oppo_office/office'\n",
        "dir_list[6] = dataset_directory + 'v2_note4_dark/dark'\n",
        "dir_list[7] = dataset_directory + 'v2_note4_daylight/daylight'\n",
        "dir_list[8] = dataset_directory + 'v2_note4_office/office'\n",
        "dir_list[9] = dataset_directory + 'v2_oppo_dark/dark'\n",
        "dir_list[10] = dataset_directory + 'v2_oppo_daylight/daylight'\n",
        "dir_list[11] = dataset_directory + 'v2_oppo_office/office'\n",
        "from glob import glob\n",
        "all_images = []\n",
        "for direc in dir_list:\n",
        "    images = glob(direc+'S1/'+'*.png')\n",
        "    all_images+=images\n",
        "    images = glob(direc+'S2/'+'*.png')\n",
        "    all_images+=images\n",
        "\n",
        "#till here, we've got a list of names of all images\n",
        "#image name: <id_of that_person>_<l/r>_<img_no.>.png"
      ],
      "execution_count": 0,
      "outputs": []
    },
    {
      "cell_type": "code",
      "metadata": {
        "id": "K9xjt-EpXUWS",
        "colab_type": "code",
        "outputId": "6fbec490-ac9a-49f5-9c3e-3e89d575e988",
        "colab": {
          "base_uri": "https://localhost:8080/",
          "height": 35
        }
      },
      "source": [
        "len(all_images)"
      ],
      "execution_count": 0,
      "outputs": [
        {
          "output_type": "execute_result",
          "data": {
            "text/plain": [
              "19516"
            ]
          },
          "metadata": {
            "tags": []
          },
          "execution_count": 7
        }
      ]
    },
    {
      "cell_type": "code",
      "metadata": {
        "id": "0sK1WiQOqaCv",
        "colab_type": "code",
        "colab": {}
      },
      "source": [
        "ids = {}\n",
        "for img_name in all_images:\n",
        "  _,_,_,_,_,_,x = img_name.split('/')\n",
        "  a,b,c = x.split('_')\n",
        "  if(a not in ids):\n",
        "    ids[a]=[]\n",
        "  ids[a].append(img_name)"
      ],
      "execution_count": 0,
      "outputs": []
    },
    {
      "cell_type": "code",
      "metadata": {
        "id": "TgPoc2uzr9B1",
        "colab_type": "code",
        "colab": {}
      },
      "source": [
        "ids_to_labels = []\n",
        "for key in ids:\n",
        "  ids_to_labels.append(int(key))"
      ],
      "execution_count": 0,
      "outputs": []
    },
    {
      "cell_type": "code",
      "metadata": {
        "id": "KOfm-hKJHnQ1",
        "colab_type": "code",
        "colab": {}
      },
      "source": [
        "import numpy as np\n",
        "X = np.zeros((19516*5,120*120*48),dtype='uint8')\n",
        "Y = np.zeros((19516*5,150),dtype='bool')\n",
        "total = 0\n",
        "for key in ids:\n",
        "  ind = ids_to_labels.index(int(key))\n",
        "  img = ids[key][0]\n",
        "  x = read_image(img)\n",
        "  im_list = preprocess_image(x)\n",
        "  out = apply_MR_filter(im_list)\n",
        "  for imm in out:\n",
        "    X[total,:] = imm.reshape((120*120*48))\n",
        "    Y[total,ind] = 1 \n",
        "    total+=1"
      ],
      "execution_count": 0,
      "outputs": []
    },
    {
      "cell_type": "code",
      "metadata": {
        "id": "9qwcNLVNcRW0",
        "colab_type": "code",
        "colab": {}
      },
      "source": [
        "from sklearn.model_selection import train_test_split\n",
        "X_train, X_test, y_train, y_test = train_test_split(X, Y, test_size=0.3, random_state=42)"
      ],
      "execution_count": 0,
      "outputs": []
    },
    {
      "cell_type": "code",
      "metadata": {
        "id": "cZRsCes8mDtU",
        "colab_type": "code",
        "outputId": "1b9ae96c-769e-49cb-98e3-8c64677215c1",
        "colab": {
          "base_uri": "https://localhost:8080/",
          "height": 35
        }
      },
      "source": [
        "# Importing modules to create our layers and model.\n",
        "from keras.layers import Input, Dense\n",
        "from keras.models import Model\n",
        "from keras import regularizers"
      ],
      "execution_count": 0,
      "outputs": [
        {
          "output_type": "stream",
          "text": [
            "Using TensorFlow backend.\n"
          ],
          "name": "stderr"
        }
      ]
    },
    {
      "cell_type": "code",
      "metadata": {
        "id": "imJ4suvjmK7V",
        "colab_type": "code",
        "colab": {}
      },
      "source": [
        "#Hyperparameters\n",
        "#You can change their values\n",
        "lambda_ = .01\n",
        "epochs = 20\n",
        "batch_size = 1000"
      ],
      "execution_count": 0,
      "outputs": []
    },
    {
      "cell_type": "code",
      "metadata": {
        "id": "Sq4Rjo_GmNcJ",
        "colab_type": "code",
        "colab": {}
      },
      "source": [
        "#corresponding to one image in dataset, there are 5 images that need to be separated. and for each of them, \n",
        "#there will be 48 images of their features. so 5*48 images will be there for one image in dataset.\n",
        "\n",
        "encoding_dim = 36\n",
        "input_img = Input(shape=(120*120*48, ))\n",
        "# This is the size of the output. We want to generate 28 x 28 pictures in the end, so this is the size we're looking for. \n",
        "output_dim = 120*120*48\n",
        "encoded1 = Dense(encoding_dim, activation='relu',kernel_regularizer=regularizers.l2(lambda_))(input_img)\n",
        "decoded1 = Dense(output_dim, activation='sigmoid',kernel_regularizer=regularizers.l2(lambda_))(encoded1)\n",
        "encoded2 = Dense(encoding_dim, activation='relu',kernel_regularizer=regularizers.l2(lambda_))(decoded1)\n",
        "decoded2 = Dense(output_dim, activation='sigmoid',kernel_regularizer=regularizers.l2(lambda_))(encoded2)\n",
        "encoded3 = Dense(encoding_dim, activation='relu',kernel_regularizer=regularizers.l2(lambda_))(decoded2)\n",
        "decoded3 = Dense(output_dim, activation='sigmoid',kernel_regularizer=regularizers.l2(lambda_))(encoded3)\n",
        "encoded4 = Dense(encoding_dim, activation='relu',kernel_regularizer=regularizers.l2(lambda_))(decoded3)\n",
        "decoded4 = Dense(output_dim, activation='sigmoid',kernel_regularizer=regularizers.l2(lambda_))(encoded4)\n",
        "output = Dense(150,activation='softmax',kernel_regularizer=regularizers.l2(lambda_))(decoded4)"
      ],
      "execution_count": 0,
      "outputs": []
    },
    {
      "cell_type": "code",
      "metadata": {
        "id": "-ynNclofmRoM",
        "colab_type": "code",
        "outputId": "0e90124b-87fb-40d7-d70d-5622e226f785",
        "colab": {
          "base_uri": "https://localhost:8080/",
          "height": 308
        }
      },
      "source": [
        "autoencoder = Model(input_img, output)\n",
        "autoencoder.compile(optimizer='adadelta', loss='binary_crossentropy',metrics=['accuracy'])\n",
        "autoencoder.summary()"
      ],
      "execution_count": 0,
      "outputs": [
        {
          "output_type": "stream",
          "text": [
            "Model: \"model_1\"\n",
            "_________________________________________________________________\n",
            "Layer (type)                 Output Shape              Param #   \n",
            "=================================================================\n",
            "input_1 (InputLayer)         (None, 691200)            0         \n",
            "_________________________________________________________________\n",
            "dense_1 (Dense)              (None, 36)                24883236  \n",
            "_________________________________________________________________\n",
            "dense_2 (Dense)              (None, 691200)            25574400  \n",
            "_________________________________________________________________\n",
            "dense_3 (Dense)              (None, 150)               103680150 \n",
            "=================================================================\n",
            "Total params: 154,137,786\n",
            "Trainable params: 154,137,786\n",
            "Non-trainable params: 0\n",
            "_________________________________________________________________\n"
          ],
          "name": "stdout"
        }
      ]
    },
    {
      "cell_type": "code",
      "metadata": {
        "id": "Je6E1FR7SdsX",
        "colab_type": "code",
        "outputId": "32155cf6-b3b4-4766-c484-7316f7f0656f",
        "colab": {
          "base_uri": "https://localhost:8080/",
          "height": 72
        }
      },
      "source": [
        "autoencoder.fit(X_train,Y_train,epochs=epochs,batch_size=batch_size)"
      ],
      "execution_count": 0,
      "outputs": [
        {
          "output_type": "stream",
          "text": [
            "Epoch 1/1\n",
            "750/750 [==============================] - 8s 10ms/step - loss: 3.1607\n"
          ],
          "name": "stdout"
        },
        {
          "output_type": "execute_result",
          "data": {
            "text/plain": [
              "<keras.callbacks.callbacks.History at 0x7fa2566837f0>"
            ]
          },
          "metadata": {
            "tags": []
          },
          "execution_count": 15
        }
      ]
    },
    {
      "cell_type": "code",
      "metadata": {
        "id": "awCqiCQNUNyM",
        "colab_type": "code",
        "colab": {}
      },
      "source": [
        "out = autoencoder.predict(X_test)"
      ],
      "execution_count": 0,
      "outputs": []
    },
    {
      "cell_type": "code",
      "metadata": {
        "id": "nARQEqgNbEhm",
        "colab_type": "code",
        "colab": {}
      },
      "source": [
        ""
      ],
      "execution_count": 0,
      "outputs": []
    }
  ]
}